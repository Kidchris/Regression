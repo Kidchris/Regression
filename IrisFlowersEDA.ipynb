{
 "cells": [
  {
   "cell_type": "markdown",
   "metadata": {},
   "source": [
    "#### Import the essential librairies such numpy, plot, sklearn"
   ]
  },
  {
   "cell_type": "code",
   "execution_count": 1,
   "metadata": {},
   "outputs": [],
   "source": [
    "import numpy as np\n",
    "import pandas as pd\n",
    "import seaborn as sb\n",
    "import matplotlib.pyplot as plt\n",
    "from sklearn.datasets import load_iris"
   ]
  },
  {
   "cell_type": "markdown",
   "metadata": {},
   "source": [
    "##### Load the Iris flowers dataset And prepare the dataFrame"
   ]
  },
  {
   "cell_type": "code",
   "execution_count": 2,
   "metadata": {},
   "outputs": [],
   "source": [
    "dataset = load_iris()"
   ]
  },
  {
   "cell_type": "code",
   "execution_count": 3,
   "metadata": {},
   "outputs": [],
   "source": [
    "features, targets = dataset.data, dataset.target\n",
    "dataset.feature_names.append(\"category\")\n",
    "names=dataset.feature_names"
   ]
  },
  {
   "cell_type": "code",
   "execution_count": 4,
   "metadata": {},
   "outputs": [],
   "source": [
    "dataset = pd.concat([pd.DataFrame(features), pd.Series(targets)], axis=1, names=names );dataset.columns = names"
   ]
  },
  {
   "cell_type": "code",
   "execution_count": 5,
   "metadata": {},
   "outputs": [
    {
     "data": {
      "text/html": [
       "<div>\n",
       "<style scoped>\n",
       "    .dataframe tbody tr th:only-of-type {\n",
       "        vertical-align: middle;\n",
       "    }\n",
       "\n",
       "    .dataframe tbody tr th {\n",
       "        vertical-align: top;\n",
       "    }\n",
       "\n",
       "    .dataframe thead th {\n",
       "        text-align: right;\n",
       "    }\n",
       "</style>\n",
       "<table border=\"1\" class=\"dataframe\">\n",
       "  <thead>\n",
       "    <tr style=\"text-align: right;\">\n",
       "      <th></th>\n",
       "      <th>sepal length (cm)</th>\n",
       "      <th>sepal width (cm)</th>\n",
       "      <th>petal length (cm)</th>\n",
       "      <th>petal width (cm)</th>\n",
       "      <th>category</th>\n",
       "    </tr>\n",
       "  </thead>\n",
       "  <tbody>\n",
       "    <tr>\n",
       "      <th>87</th>\n",
       "      <td>6.3</td>\n",
       "      <td>2.3</td>\n",
       "      <td>4.4</td>\n",
       "      <td>1.3</td>\n",
       "      <td>1</td>\n",
       "    </tr>\n",
       "    <tr>\n",
       "      <th>146</th>\n",
       "      <td>6.3</td>\n",
       "      <td>2.5</td>\n",
       "      <td>5.0</td>\n",
       "      <td>1.9</td>\n",
       "      <td>2</td>\n",
       "    </tr>\n",
       "    <tr>\n",
       "      <th>41</th>\n",
       "      <td>4.5</td>\n",
       "      <td>2.3</td>\n",
       "      <td>1.3</td>\n",
       "      <td>0.3</td>\n",
       "      <td>0</td>\n",
       "    </tr>\n",
       "  </tbody>\n",
       "</table>\n",
       "</div>"
      ],
      "text/plain": [
       "     sepal length (cm)  sepal width (cm)  petal length (cm)  petal width (cm)  \\\n",
       "87                 6.3               2.3                4.4               1.3   \n",
       "146                6.3               2.5                5.0               1.9   \n",
       "41                 4.5               2.3                1.3               0.3   \n",
       "\n",
       "     category  \n",
       "87          1  \n",
       "146         2  \n",
       "41          0  "
      ]
     },
     "execution_count": 5,
     "metadata": {},
     "output_type": "execute_result"
    }
   ],
   "source": [
    "dataset.sample(3)"
   ]
  },
  {
   "cell_type": "markdown",
   "metadata": {},
   "source": [
    "#### Check for dataset data types and visualize them depending on the target"
   ]
  },
  {
   "cell_type": "code",
   "execution_count": 6,
   "metadata": {},
   "outputs": [],
   "source": [
    "target, features = dataset[\"sepal length (cm)\"], dataset.drop(\"sepal length (cm)\", axis=1)"
   ]
  },
  {
   "cell_type": "code",
   "execution_count": 7,
   "metadata": {},
   "outputs": [
    {
     "data": {
      "text/plain": [
       "(sepal width (cm)     float64\n",
       " petal length (cm)    float64\n",
       " petal width (cm)     float64\n",
       " category               int64\n",
       " dtype: object,\n",
       " dtype('float64'))"
      ]
     },
     "execution_count": 7,
     "metadata": {},
     "output_type": "execute_result"
    }
   ],
   "source": [
    "features.dtypes, target.dtypes"
   ]
  },
  {
   "cell_type": "code",
   "execution_count": null,
   "metadata": {},
   "outputs": [],
   "source": [
    "colors = [\"teal\", \"red\", \"blue\", \"green\" ]\n",
    "plt.figure(figsize=(24, 18))\n",
    "for i in range(4):\n",
    "    plt.subplot(2, 2, i+1)\n",
    "    plt.scatter(features[features.columns[i]], target, c=colors[i])\n",
    "    plt.title(f\"{features.columns[i]} / {target.name}\")\n",
    "    plt.xlabel(f\"{features.columns[i]}\")\n",
    "    plt.ylabel(f\"{target.name}\")\n",
    "#     plt.legend()\n",
    "# plt.show()\n",
    "    "
   ]
  },
  {
   "cell_type": "markdown",
   "metadata": {},
   "source": [
    "###### A voir le Plot ci-dessus on peut dire:\n",
    "- **En ce qui concerne la longueure du sepal;** _Il n'y a pas de tres grande distrubtion entre longueur et la largeur du sepal_: \n",
    "    - c'est-a-dire que la distrution est aleatoire et on ne pourait pas etablir une relation entre la longueur et la largeur du sepal.\n",
    "    - Neamoins, on vois que la taille du sepal augment pour les fleurs dont la longueur du sepal est compris entre __2.5cm et 3.5cm__ . Ce fait pourrait nous interresse pour plutard\n",
    "\n",
    "- **En ce qui concerne la largeur du petal; on voit une certaine correlation**:\n",
    "    - En effet **30% a 40%** des fleurs ont une largeur de sepal compris entre **4.0cm et 6.0cm**\n",
    "    - Le reste des fleur, c'est a dire plus de **55%** correlent avec la largeur de sepal\n",
    "    \n",
    "- **En ce qui concerne la longueur du petal:**\n",
    "     - Ils ont presque la meme corelation que la __largeur du petal__ car pres de **30 a 40%** sont stack a une largeur compris entre **4.5 et 6.0cm**\n",
    "     - Le reste des fleurs sont elles aussi en correlation avec la largeur du sepal\n",
    "     - Ce qui constitue une difference entre la largeur et la longueur du sepal, c'est la dispersion des element qui les constitue. On voit au niveau de la longueur que les fleurs sont **\"sparse\"** contrairement aux autres\n",
    "     \n",
    "- **En ce qui concerne les category:**\n",
    "    - Il n'y a pas de relation. Donc, nous verrons cela comme feature a analyser plutard.\n",
    "\n",
    "- **Parceque le dataset est de taille minume, nous allons vite passer au modeling voir, si on peut composer quelque chose avant de revenir voir si nous n'avons pas omis d'explorer quelque chose d'autre**"
   ]
  },
  {
   "cell_type": "code",
   "execution_count": null,
   "metadata": {},
   "outputs": [],
   "source": []
  }
 ],
 "metadata": {
  "kernelspec": {
   "display_name": "Python 3",
   "language": "python",
   "name": "python3"
  },
  "language_info": {
   "codemirror_mode": {
    "name": "ipython",
    "version": 3
   },
   "file_extension": ".py",
   "mimetype": "text/x-python",
   "name": "python",
   "nbconvert_exporter": "python",
   "pygments_lexer": "ipython3",
   "version": "3.8.5"
  }
 },
 "nbformat": 4,
 "nbformat_minor": 4
}

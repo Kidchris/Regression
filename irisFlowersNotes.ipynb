{
 "cells": [
  {
   "cell_type": "markdown",
   "metadata": {},
   "source": [
    "\n",
    "<h1 style=\"text-align:center;\">IRIS DATASET</h1>\n",
    "\n",
    "### This Project is about Regression analysis in python\n",
    "\n",
    "**The goal is to find the** <span style=\"color:red\"> _Sepal Length in (cm)_ </span> **of a given plant based :**\n",
    "- The Sepal width (cm)\n",
    "- The Petal length (cm)\n",
    "- The Petal width (cm)\n",
    "- The Plant category\n",
    "\n",
    "#### The work consist of mainly **Three parts**\n",
    "- \n",
    "    - <a href=\"./IrisFlowersEDA.ipynb\" style=\"text-decoration:none;\">THE EDA (Exploratory Data Analysis)</a>\n",
    "    - THE DATA CLEANING\n",
    "    - THE MODEL BUILDING"
   ]
  }
 ],
 "metadata": {
  "kernelspec": {
   "display_name": "Python 3",
   "language": "python",
   "name": "python3"
  },
  "language_info": {
   "codemirror_mode": {
    "name": "ipython",
    "version": 3
   },
   "file_extension": ".py",
   "mimetype": "text/x-python",
   "name": "python",
   "nbconvert_exporter": "python",
   "pygments_lexer": "ipython3",
   "version": "3.8.5"
  }
 },
 "nbformat": 4,
 "nbformat_minor": 4
}
